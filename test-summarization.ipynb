{
 "cells": [
  {
   "cell_type": "code",
   "execution_count": 1,
   "id": "5fdc9731-e9cd-4ff2-b5b3-5b4df79f4454",
   "metadata": {},
   "outputs": [],
   "source": [
    "!pip install -qq datasets transformers[sentencepiece]\n",
    "!pip install rouge_score -qq"
   ]
  },
  {
   "cell_type": "code",
   "execution_count": 1,
   "id": "dca2a9b0-8cf6-4743-bc85-61c958370c0d",
   "metadata": {},
   "outputs": [],
   "source": [
    "import glob\n",
    "import concurrent.futures\n",
    "import pandas as pd\n",
    "from transformers import pipeline\n",
    "import numpy as np\n",
    "import evaluate  "
   ]
  },
  {
   "cell_type": "code",
   "execution_count": 4,
   "id": "5c43a381-4997-4263-be87-622e0f09e0a1",
   "metadata": {},
   "outputs": [
    {
     "name": "stderr",
     "output_type": "stream",
     "text": [
      "'wget' is not recognized as an internal or external command,\n",
      "operable program or batch file.\n",
      "'unzip' is not recognized as an internal or external command,\n",
      "operable program or batch file.\n"
     ]
    }
   ],
   "source": [
    "!wget 'https://github.com/ThanhChinhBK/vietnews/archive/master.zip'\n",
    "!unzip 'master.zip'"
   ]
  },
  {
   "cell_type": "code",
   "execution_count": 2,
   "id": "342b3fd5-7412-4fb8-9ced-e20bb6ff5ebe",
   "metadata": {},
   "outputs": [],
   "source": [
    "def listPaths(path):\n",
    "  pathfiles = list()\n",
    "  for pathfile in glob.glob(path):\n",
    "    pathfiles.append(pathfile)\n",
    "  return pathfiles\n",
    "\n",
    "test_paths = listPaths('D:/vietnews/data/script/*')\n",
    "\n",
    "def read_content(pathfile):\n",
    "    \"\"\"\n",
    "    Input: Path of txt file\n",
    "    Output: A dictionary has keys 'original' and 'summary'\n",
    "    \"\"\"\n",
    "    try:\n",
    "        with open(pathfile, encoding=\"utf-8\") as f:  # Thêm encoding UTF-8\n",
    "            rows = f.readlines()\n",
    "            if len(rows) < 5:  # Kiểm tra file có đủ dòng không\n",
    "                return None\n",
    "            original = ' '.join(''.join(rows[4:]).split('\\n'))\n",
    "            summary = ' '.join(rows[2].split('\\n'))\n",
    "\n",
    "        return {'file': pathfile, 'original': original, 'summary': summary}\n",
    "    except UnicodeDecodeError:\n",
    "        print(f\"Encoding error in file: {pathfile}\")\n",
    "        return None  # Bỏ qua file bị lỗi\n",
    "\n",
    "\n",
    "\n",
    "def get_dataframe(pathfiles):\n",
    "    with concurrent.futures.ThreadPoolExecutor() as executor:  # Dùng ThreadPoolExecutor thay vì ProcessPoolExecutor\n",
    "        data = list(executor.map(read_content, pathfiles))\n",
    "\n",
    "    # Loại bỏ các giá trị None (các tệp bị lỗi)\n",
    "    data_df = [d for d in data if d is not None]\n",
    "    data_df = pd.DataFrame(data_df)\n",
    "    data_df.dropna(inplace=True)\n",
    "    data_df = data_df.sample(frac=1).reset_index(drop=True)\n",
    "\n",
    "    return data_df   "
   ]
  },
  {
   "cell_type": "code",
   "execution_count": 3,
   "id": "3bd46fe9-c00d-4637-82b7-4f4b82671c1f",
   "metadata": {},
   "outputs": [],
   "source": [
    "test_df = get_dataframe(test_paths)"
   ]
  },
  {
   "cell_type": "code",
   "execution_count": 4,
   "id": "8015b335-f24c-4f67-8852-45a58b30352f",
   "metadata": {},
   "outputs": [
    {
     "data": {
      "text/html": [
       "<div>\n",
       "<style scoped>\n",
       "    .dataframe tbody tr th:only-of-type {\n",
       "        vertical-align: middle;\n",
       "    }\n",
       "\n",
       "    .dataframe tbody tr th {\n",
       "        vertical-align: top;\n",
       "    }\n",
       "\n",
       "    .dataframe thead th {\n",
       "        text-align: right;\n",
       "    }\n",
       "</style>\n",
       "<table border=\"1\" class=\"dataframe\">\n",
       "  <thead>\n",
       "    <tr style=\"text-align: right;\">\n",
       "      <th></th>\n",
       "      <th>file</th>\n",
       "      <th>original</th>\n",
       "      <th>summary</th>\n",
       "    </tr>\n",
       "  </thead>\n",
       "  <tbody>\n",
       "    <tr>\n",
       "      <th>0</th>\n",
       "      <td>D:/vietnews/data/script\\10.txt</td>\n",
       "      <td>Ê nó nè, Tết rồi trả tiền tôi được không? Biế...</td>\n",
       "      <td>Đâu có vỗ, cuộc đời vỗ với mặt em đó Bây giờ ...</td>\n",
       "    </tr>\n",
       "    <tr>\n",
       "      <th>1</th>\n",
       "      <td>D:/vietnews/data/script\\6.txt</td>\n",
       "      <td>em về, tao lo cho bản mặt già của mày rồi tao...</td>\n",
       "      <td>Mày mới ăn đục thừa đầu cặn của tao nữa con A...</td>\n",
       "    </tr>\n",
       "    <tr>\n",
       "      <th>2</th>\n",
       "      <td>D:/vietnews/data/script\\2.txt</td>\n",
       "      <td>được giấy đăng ký kết hôn, chủ tịch đã thú nh...</td>\n",
       "      <td>Chủ tịch vừa đến cửa sở dân chính thì cô gái ...</td>\n",
       "    </tr>\n",
       "  </tbody>\n",
       "</table>\n",
       "</div>"
      ],
      "text/plain": [
       "                             file  \\\n",
       "0  D:/vietnews/data/script\\10.txt   \n",
       "1   D:/vietnews/data/script\\6.txt   \n",
       "2   D:/vietnews/data/script\\2.txt   \n",
       "\n",
       "                                            original  \\\n",
       "0   Ê nó nè, Tết rồi trả tiền tôi được không? Biế...   \n",
       "1   em về, tao lo cho bản mặt già của mày rồi tao...   \n",
       "2   được giấy đăng ký kết hôn, chủ tịch đã thú nh...   \n",
       "\n",
       "                                             summary  \n",
       "0   Đâu có vỗ, cuộc đời vỗ với mặt em đó Bây giờ ...  \n",
       "1   Mày mới ăn đục thừa đầu cặn của tao nữa con A...  \n",
       "2   Chủ tịch vừa đến cửa sở dân chính thì cô gái ...  "
      ]
     },
     "execution_count": 4,
     "metadata": {},
     "output_type": "execute_result"
    }
   ],
   "source": [
    "test_df.head(3)"
   ]
  },
  {
   "cell_type": "code",
   "execution_count": 5,
   "id": "b90aae79-7cb8-416d-b681-77dec82af9e9",
   "metadata": {},
   "outputs": [
    {
     "data": {
      "text/plain": [
       "' Ê nó nè, Tết rồi trả tiền tôi được không? Biết sao không? Tết rồi nhiều khoản phải lo quá à Thôi tôi lấy trước vô đây nha Cuối năm nay, công ty chúng ta sẽ hợp tác với lại nhãn hàng Lai Boy Vì vậy cho nên những nhân viên chính thức của công ty sẽ nhận được một phần quà linh đình Mà chưa hết, mọi người ngồi ra  Còn được bóc thăm bao lì xì may mắn nữa Đó Ai may mắn thì sẽ bóc và trúng tiền thưởng Tết đó nha Cô mới làm lao công được 2 tuần Chưa là nhân viên chính thức Nên Cô không được nhận phần quà này Hình như là nhà cô cũng bị ảnh hưởng từ bão lũ năm nay đúng không? Con tặng cô Con đúng là một chàng trai tốt bụng Cảm ơn con nhiều lắm Cảm ơn con nhiều lắm  Lai ơi Lai Ồ chị xin lỗi em nha Cái bản dự chi ban đầu á Chị nhìn lộn tên em hành tên người khác Cho nên em làm đúng rồi Chút nữa chị vô chị ký cái tạm ứng cho em Em không cần phải lấy tiền túi nữa Tết này có tiền ăn Tết rồi Thật hả chị Thôi khoan đi Ủa đúng tên em rồi nè Vậy là chị đúng chứ chị đâu có sai Rồi giống như ban đầu luôn Em tự bỏ tiền túi em ra trả Chị vừa có bầu rồi  Không có bù cho em được đâu Hù ghê Em mới làm chị hết hồn Chị làm em hết hồn thì đúng hơn Trời ơi chị để tay lên da em nhẹ nhẹ hiều Chị đừng có bầu nha Em làm một hồi chị đẻ bây giờ Thôi chị có bầu sao chị không về sớm đi Giờ này chị còn lưỡng lỡ đây chị hù em nữa Chị ở lại tăng ca giống em nè Chị phải duyệt lương cho tất cả mọi người Rồi chị duyệt xong chưa Con chị nói chưa Chị có bầu mà em Năng suất chị có hạn Mỗi lần quảng nạn  Chắc là chị mất tiêu à Em thiết kế mấy cái bao này hả? Dạ em nhận thiết kế thêm bao lì xì Dạ em kiếm thêm vào ngày Tết đó chị Chắc cũng bộn ha Chua lắm chị ơi Chị phạt em gấp đôi cái tiền em kiếm được Sao vậy? Tại em dám nhận rớt ngoài về công ty làm Không chị ơi, em năn nỉ chị á Từ sáng tới giờ là cuộc đời vỗ vô mặt em mấy cái chớ giới rồi Cho nên là chị tha cho em đi Chị cho em kiếm thêm vào ngày Tết nha chị Em năn nỉ á Trôn trôn Việt Nam Chị giỡn với em thôi á  Mà phạt vậy để đứt với con chị nữa chứ Dạ, cảm ơn chị Công đứt vô bụng mẹ con chị nha Làm gì mới lên đây, làm gì đây Ôi trời ơi Sếp mới giao cái bức mà Tết Vỗ Về mà em làm xong rồi đó hả Dạ Tết Vỗ Về, để được Vỗ và được về Về để được Vỗ Mà Vỗ để nhớ mà về Nghe mấy ông nói sao chị muốn về ăn Vỗ Không chị đi về quê, muốn về quê Vỗ ở đây là Vỗ Vỗ, chứ không phải là Dỗ Không phải là Dỗ Với lại sếp nói á  Em vẽ xong bức này đi, sếp sẽ thưởng thêm cho em Nên em tranh thủ ngày hôm nay em vẽ cho xong luôn Chị gì thưởng cho em nha Ui da, đau bụng đẻ quá em ơi, đau quá Em ơi, tiền của em để có gì qua Tết chị chuyển cho em nha Đi đi, lẹ lên, đau quá Thôi phòng ra thở cho em ơi, đau quá Chị ơi, chị! Con nghe nè mẹ Ngày mai con về phải không? Dạ  Ba con chưa kiếm đủ tiền, chắc con nắng là dài hơn. Mẹ đâu có cần nhiều tiền để làm gì. Con khỏe là tài sản lớn nhất của mẹ rồi. Tết mà mẹ, phải ê hề đề huề thì mới ra cái Tết chứ. Mẹ yên tâm, tạm ba ngày nữa con về nha. Ba mẹ ơi, con về rồi.  I love you.  Ba Nếu con đã muốn về Thì hãy về ngay đi Đừng chần chờ gì nữa Về nhà Để được vỗ về Tết này Tết này  Chỉ còn một mình mẹ ở nhà thôi  Vô đi nhớ mà về Vinh hoài êm trề Cũng phải khỏe mà về Về để mình vô về Về để được vô Vô đi nhớ mà về Về để được vô Vô đi nhớ mà về Đêm đêm về ta ôm nhớ yêu thương Năm chút âm lòng chút đôi  Hãy subscribe cho kênh Ghiền Mì Gõ Để không bỏ lỡ những video hấp dẫn  Thank you. '"
      ]
     },
     "execution_count": 5,
     "metadata": {},
     "output_type": "execute_result"
    }
   ],
   "source": [
    "test_df['original'][0]"
   ]
  },
  {
   "cell_type": "code",
   "execution_count": 6,
   "id": "63ee5eeb-f8f9-4423-86b8-0b42c020b2d1",
   "metadata": {},
   "outputs": [],
   "source": [
    "rouge_score = evaluate.load(\"rouge\")"
   ]
  },
  {
   "cell_type": "code",
   "execution_count": 7,
   "id": "072147ad-4867-43c0-b79b-8d64945b9d89",
   "metadata": {},
   "outputs": [],
   "source": [
    "model_name = \"creamyngreen/vietnamese-summarization\""
   ]
  },
  {
   "cell_type": "code",
   "execution_count": 8,
   "id": "116f1786-564d-40ef-949c-7bdf7f7ac34b",
   "metadata": {},
   "outputs": [],
   "source": [
    "from transformers import MBartForConditionalGeneration\n",
    "from transformers import AutoTokenizer\n",
    "\n",
    "tokenizer = AutoTokenizer.from_pretrained(model_name)\n",
    "model = MBartForConditionalGeneration.from_pretrained(model_name)\n",
    "\n",
    "def old_summarization_pipeline(df):\n",
    "    input_ids = tokenizer.encode_plus(df['original'], return_tensors='pt', max_length=512, truncation=True, padding=True)['input_ids']\n",
    "    summary_ids = model.generate(input_ids, max_length=128)\n",
    "    summaries = [tokenizer.decode(s, skip_special_tokens=True) for s in summary_ids]\n",
    "    return summaries"
   ]
  },
  {
   "cell_type": "code",
   "execution_count": 12,
   "id": "8d4b16b9-e4ac-4eeb-8bb2-db9095c24a45",
   "metadata": {},
   "outputs": [],
   "source": [
    "test_df_sampled = test_df.sample(len(test_df))"
   ]
  },
  {
   "cell_type": "code",
   "execution_count": 13,
   "id": "6dedf8f0-1123-4c73-9bf4-93d244b5e820",
   "metadata": {},
   "outputs": [],
   "source": [
    "predictions = [old_summarization_pipeline(test_df.iloc[i])[0] for i in range(len(test_df))]"
   ]
  },
  {
   "cell_type": "code",
   "execution_count": 14,
   "id": "086ff400-90c7-407f-b33a-49cf1574cab4",
   "metadata": {},
   "outputs": [],
   "source": [
    "references = list(test_df['summary']) "
   ]
  },
  {
   "cell_type": "code",
   "execution_count": 15,
   "id": "83d94350-36c2-4ed9-9c3c-ebf4d8a3cf2b",
   "metadata": {},
   "outputs": [
    {
     "data": {
      "text/plain": [
       "{'rouge1': np.float64(0.38749293247111194),\n",
       " 'rouge2': np.float64(0.08527578540980722),\n",
       " 'rougeL': np.float64(0.23560593102510627),\n",
       " 'rougeLsum': np.float64(0.23574571774846068)}"
      ]
     },
     "execution_count": 15,
     "metadata": {},
     "output_type": "execute_result"
    }
   ],
   "source": [
    "rouge_score.compute(predictions=predictions,references=references)"
   ]
  },
  {
   "cell_type": "code",
   "execution_count": 16,
   "id": "e5851ebe-47c4-4e1e-84a2-aa8a31394804",
   "metadata": {},
   "outputs": [
    {
     "name": "stdout",
     "output_type": "stream",
     "text": [
      "0.38749293247111194\n"
     ]
    }
   ],
   "source": [
    "rouge1_fmeasure = rouge_score.compute(predictions=predictions, references=references)['rouge1']\n",
    "print(rouge1_fmeasure)\n"
   ]
  },
  {
   "cell_type": "code",
   "execution_count": 17,
   "id": "decef32b-54d5-4b49-8eb6-983b2b281ecf",
   "metadata": {},
   "outputs": [
    {
     "name": "stdout",
     "output_type": "stream",
     "text": [
      "0.08527578540980722\n"
     ]
    }
   ],
   "source": [
    "rouge2_fmeasure = rouge_score.compute(predictions=predictions, references=references)['rouge2']\n",
    "print(rouge2_fmeasure)"
   ]
  },
  {
   "cell_type": "code",
   "execution_count": 18,
   "id": "2dd88714-219d-41f9-957d-d8967a0a3d4b",
   "metadata": {},
   "outputs": [
    {
     "name": "stdout",
     "output_type": "stream",
     "text": [
      "0.23560593102510627\n"
     ]
    }
   ],
   "source": [
    "rougeL_fmeasure = rouge_score.compute(predictions=predictions, references=references)['rougeL']\n",
    "print(rougeL_fmeasure)"
   ]
  },
  {
   "cell_type": "markdown",
   "id": "ce5b0165-7811-4f58-ba37-feef0ac5428a",
   "metadata": {},
   "source": [
    "# RESULT DATAFRAME"
   ]
  },
  {
   "cell_type": "code",
   "execution_count": 19,
   "id": "b45b0bb9-0e65-413d-84a3-5cc958436b96",
   "metadata": {},
   "outputs": [],
   "source": [
    "result_df = pd.DataFrame({'summary':references, 'predictions':predictions})    "
   ]
  },
  {
   "cell_type": "code",
   "execution_count": 31,
   "id": "c6564ebb-d480-4722-9e32-eb35abb21661",
   "metadata": {},
   "outputs": [
    {
     "name": "stdout",
     "output_type": "stream",
     "text": [
      " Nói sao nghe tết quớt kìa trời, đẹp thì có đẹp á, mà sao nắng dách vậy? Ở đây vui quán cà phê, chứ không phải văn bún bò. À, vậy hả chị? Nãy giờ em đeo kính, em không có biết. Chị cho em ly coffee nha chị. Coffee là gì? Cà phê đó chị. Cà phê? Vâng. Yes. Đây là cà phê coffee, đợi đợi đi xíu nha. Ok. \n"
     ]
    }
   ],
   "source": [
    "print(result_df.iloc[3]['summary'])"
   ]
  },
  {
   "cell_type": "code",
   "execution_count": 30,
   "id": "5b2ed2dc-62a0-4ef9-b3be-ce862edfd650",
   "metadata": {},
   "outputs": [
    {
     "name": "stdout",
     "output_type": "stream",
     "text": [
      "Em Chế Công - nhân_viên của quán cà_phê mà tôi ghé thăm đã nói với tôi như_vậy .\n"
     ]
    }
   ],
   "source": [
    "print(result_df.iloc[3]['predictions'])"
   ]
  },
  {
   "cell_type": "code",
   "execution_count": 35,
   "id": "83ea9b53-9784-4b62-9cf3-64da97faba39",
   "metadata": {},
   "outputs": [
    {
     "name": "stdout",
     "output_type": "stream",
     "text": [
      "                                             summary  \\\n",
      "0   Đâu có vỗ, cuộc đời vỗ với mặt em đó Bây giờ ...   \n",
      "1   Mày mới ăn đục thừa đầu cặn của tao nữa con A...   \n",
      "2   Chủ tịch vừa đến cửa sở dân chính thì cô gái ...   \n",
      "3   Nói sao nghe tết quớt kìa trời, đẹp thì có đẹ...   \n",
      "4   Hãy subscribe cho kênh Ghiền Mì Gõ Để không b...   \n",
      "\n",
      "                                         predictions  \n",
      "0  Cô làm lao công được 2 tuần , chưa có nhân viê...  \n",
      "1  Nhân Bạch Nhân , Công nhận không đồ hàng ăn ng...  \n",
      "2  Một người phụ_nữ ở thành_phố Thượng_Hải , Trun...  \n",
      "3  Em Chế Công - nhân_viên của quán cà_phê mà tôi...  \n",
      "4  In Ki-ung , cháu gái của In Ki-ung , người đã ...  \n"
     ]
    }
   ],
   "source": [
    "print(result_df.head())  # Check if 'summary' and 'predictions' exist\n"
   ]
  },
  {
   "cell_type": "code",
   "execution_count": 26,
   "id": "5294f754-bfdf-4332-8448-4732613baf88",
   "metadata": {},
   "outputs": [],
   "source": [
    "result_df.to_csv(\"movie_test_summarization\")"
   ]
  },
  {
   "cell_type": "code",
   "execution_count": null,
   "id": "6bbe2434-caa0-4137-99b6-f99d3e507f50",
   "metadata": {},
   "outputs": [],
   "source": []
  }
 ],
 "metadata": {
  "kernelspec": {
   "display_name": "Python 3 (ipykernel)",
   "language": "python",
   "name": "python3"
  },
  "language_info": {
   "codemirror_mode": {
    "name": "ipython",
    "version": 3
   },
   "file_extension": ".py",
   "mimetype": "text/x-python",
   "name": "python",
   "nbconvert_exporter": "python",
   "pygments_lexer": "ipython3",
   "version": "3.11.2"
  }
 },
 "nbformat": 4,
 "nbformat_minor": 5
}
