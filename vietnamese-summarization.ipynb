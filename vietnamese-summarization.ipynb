{
 "cells": [
  {
   "cell_type": "code",
   "execution_count": 1,
   "id": "6df9c756-555d-4549-a471-fdbf5956ff07",
   "metadata": {},
   "outputs": [
    {
     "name": "stdout",
     "output_type": "stream",
     "text": [
      "^C\n",
      "Requirement already satisfied: evaluate in c:\\users\\pc\\appdata\\local\\programs\\python\\python311\\lib\\site-packages (0.4.3)\n",
      "Requirement already satisfied: datasets>=2.0.0 in c:\\users\\pc\\appdata\\local\\programs\\python\\python311\\lib\\site-packages (from evaluate) (3.2.0)\n",
      "Requirement already satisfied: numpy>=1.17 in c:\\users\\pc\\appdata\\local\\programs\\python\\python311\\lib\\site-packages (from evaluate) (2.2.2)\n",
      "Requirement already satisfied: dill in c:\\users\\pc\\appdata\\local\\programs\\python\\python311\\lib\\site-packages (from evaluate) (0.3.8)\n",
      "Requirement already satisfied: pandas in c:\\users\\pc\\appdata\\local\\programs\\python\\python311\\lib\\site-packages (from evaluate) (2.2.3)\n",
      "Requirement already satisfied: requests>=2.19.0 in c:\\users\\pc\\appdata\\local\\programs\\python\\python311\\lib\\site-packages (from evaluate) (2.32.3)\n",
      "Requirement already satisfied: tqdm>=4.62.1 in c:\\users\\pc\\appdata\\local\\programs\\python\\python311\\lib\\site-packages (from evaluate) (4.67.1)\n",
      "Requirement already satisfied: xxhash in c:\\users\\pc\\appdata\\local\\programs\\python\\python311\\lib\\site-packages (from evaluate) (3.5.0)\n",
      "Requirement already satisfied: multiprocess in c:\\users\\pc\\appdata\\local\\programs\\python\\python311\\lib\\site-packages (from evaluate) (0.70.16)\n",
      "Requirement already satisfied: fsspec>=2021.05.0 in c:\\users\\pc\\appdata\\local\\programs\\python\\python311\\lib\\site-packages (from fsspec[http]>=2021.05.0->evaluate) (2024.9.0)\n",
      "Requirement already satisfied: huggingface-hub>=0.7.0 in c:\\users\\pc\\appdata\\local\\programs\\python\\python311\\lib\\site-packages (from evaluate) (0.28.1)\n",
      "Requirement already satisfied: packaging in c:\\users\\pc\\appdata\\local\\programs\\python\\python311\\lib\\site-packages (from evaluate) (24.2)\n",
      "Requirement already satisfied: filelock in c:\\users\\pc\\appdata\\local\\programs\\python\\python311\\lib\\site-packages (from datasets>=2.0.0->evaluate) (3.17.0)\n",
      "Requirement already satisfied: pyarrow>=15.0.0 in c:\\users\\pc\\appdata\\local\\programs\\python\\python311\\lib\\site-packages (from datasets>=2.0.0->evaluate) (19.0.0)\n",
      "Requirement already satisfied: aiohttp in c:\\users\\pc\\appdata\\local\\programs\\python\\python311\\lib\\site-packages (from datasets>=2.0.0->evaluate) (3.11.12)\n",
      "Requirement already satisfied: pyyaml>=5.1 in c:\\users\\pc\\appdata\\local\\programs\\python\\python311\\lib\\site-packages (from datasets>=2.0.0->evaluate) (6.0.2)\n",
      "Requirement already satisfied: typing-extensions>=3.7.4.3 in c:\\users\\pc\\appdata\\local\\programs\\python\\python311\\lib\\site-packages (from huggingface-hub>=0.7.0->evaluate) (4.12.2)\n",
      "Requirement already satisfied: charset-normalizer<4,>=2 in c:\\users\\pc\\appdata\\local\\programs\\python\\python311\\lib\\site-packages (from requests>=2.19.0->evaluate) (3.4.1)\n",
      "Requirement already satisfied: idna<4,>=2.5 in c:\\users\\pc\\appdata\\local\\programs\\python\\python311\\lib\\site-packages (from requests>=2.19.0->evaluate) (3.10)\n",
      "Requirement already satisfied: urllib3<3,>=1.21.1 in c:\\users\\pc\\appdata\\local\\programs\\python\\python311\\lib\\site-packages (from requests>=2.19.0->evaluate) (2.3.0)\n",
      "Requirement already satisfied: certifi>=2017.4.17 in c:\\users\\pc\\appdata\\local\\programs\\python\\python311\\lib\\site-packages (from requests>=2.19.0->evaluate) (2025.1.31)\n",
      "Requirement already satisfied: colorama in c:\\users\\pc\\appdata\\local\\programs\\python\\python311\\lib\\site-packages (from tqdm>=4.62.1->evaluate) (0.4.6)\n",
      "Requirement already satisfied: python-dateutil>=2.8.2 in c:\\users\\pc\\appdata\\local\\programs\\python\\python311\\lib\\site-packages (from pandas->evaluate) (2.9.0.post0)\n",
      "Requirement already satisfied: pytz>=2020.1 in c:\\users\\pc\\appdata\\local\\programs\\python\\python311\\lib\\site-packages (from pandas->evaluate) (2025.1)\n",
      "Requirement already satisfied: tzdata>=2022.7 in c:\\users\\pc\\appdata\\local\\programs\\python\\python311\\lib\\site-packages (from pandas->evaluate) (2025.1)\n",
      "Requirement already satisfied: aiohappyeyeballs>=2.3.0 in c:\\users\\pc\\appdata\\local\\programs\\python\\python311\\lib\\site-packages (from aiohttp->datasets>=2.0.0->evaluate) (2.4.6)\n",
      "Requirement already satisfied: aiosignal>=1.1.2 in c:\\users\\pc\\appdata\\local\\programs\\python\\python311\\lib\\site-packages (from aiohttp->datasets>=2.0.0->evaluate) (1.3.2)\n",
      "Requirement already satisfied: attrs>=17.3.0 in c:\\users\\pc\\appdata\\local\\programs\\python\\python311\\lib\\site-packages (from aiohttp->datasets>=2.0.0->evaluate) (25.1.0)\n",
      "Requirement already satisfied: frozenlist>=1.1.1 in c:\\users\\pc\\appdata\\local\\programs\\python\\python311\\lib\\site-packages (from aiohttp->datasets>=2.0.0->evaluate) (1.5.0)\n",
      "Requirement already satisfied: multidict<7.0,>=4.5 in c:\\users\\pc\\appdata\\local\\programs\\python\\python311\\lib\\site-packages (from aiohttp->datasets>=2.0.0->evaluate) (6.1.0)\n",
      "Requirement already satisfied: propcache>=0.2.0 in c:\\users\\pc\\appdata\\local\\programs\\python\\python311\\lib\\site-packages (from aiohttp->datasets>=2.0.0->evaluate) (0.2.1)\n",
      "Requirement already satisfied: yarl<2.0,>=1.17.0 in c:\\users\\pc\\appdata\\local\\programs\\python\\python311\\lib\\site-packages (from aiohttp->datasets>=2.0.0->evaluate) (1.18.3)\n",
      "Requirement already satisfied: six>=1.5 in c:\\users\\pc\\appdata\\local\\programs\\python\\python311\\lib\\site-packages (from python-dateutil>=2.8.2->pandas->evaluate) (1.17.0)\n"
     ]
    }
   ],
   "source": [
    "!pip install -qq transformers[sentencepiece]\n",
    "!pip install -qq ohmeow-blurr\n",
    "!pip install  -qq fastai --upgrade\n",
    "!pip install -qq datasets\n",
    "!pip install evaluate"
   ]
  },
  {
   "cell_type": "markdown",
   "id": "90e0cd8c-7707-474e-9e02-023b50ff4e25",
   "metadata": {},
   "source": [
    "# IMPORT"
   ]
  },
  {
   "cell_type": "code",
   "execution_count": 2,
   "id": "8b9b19e1-6858-4793-9b20-cbbecfdaf9b1",
   "metadata": {},
   "outputs": [],
   "source": [
    "import ast, inspect, torch\n",
    "from typing import Any, Callable, Dict, List, Optional, Union, Type\n",
    "\n",
    "from evaluate import load as hf_load_metric\n",
    "from fastcore.all import *\n",
    "from fastai.callback.all import *\n",
    "from fastai.data.block import DataBlock, ColReader, ItemGetter, ColSplitter, RandomSplitter\n",
    "from fastai.data.core import DataLoader, DataLoaders, TfmdDL\n",
    "from fastai.imports import *\n",
    "from fastai.learner import *\n",
    "from fastai.losses import CrossEntropyLossFlat\n",
    "from fastai.optimizer import Adam, ranger, OptimWrapper, params\n",
    "from fastai.torch_core import *\n",
    "from fastai.torch_imports import *\n",
    "from fastai.text.all import *\n",
    "from fastprogress.fastprogress import progress_bar,master_bar\n",
    "from transformers import (\n",
    "    AutoModelForSeq2SeqLM, logging,\n",
    "    PretrainedConfig, PreTrainedTokenizerBase, PreTrainedModel\n",
    ")\n",
    "\n",
    "from blurr.utils import BLURR\n",
    "from blurr.data.seq2seq.core import HF_Seq2SeqBlock, HF_Seq2SeqBeforeBatchTransform, default_text_gen_kwargs\n",
    "from blurr.modeling.core import HF_BaseModelWrapper, HF_BaseModelCallback, HF_PreCalculatedLoss, Blearner\n",
    "from blurr.modeling.seq2seq.core import HF_Seq2SeqMetricsCallback, seq2seq_splitter\n",
    "\n",
    "logging.set_verbosity_error()"
   ]
  },
  {
   "cell_type": "code",
   "execution_count": 3,
   "id": "a16f6628-c037-41fc-96cc-12b3f2345bd8",
   "metadata": {},
   "outputs": [
    {
     "name": "stdout",
     "output_type": "stream",
     "text": [
      "torch: 2.5.1+cu121\n",
      "fastai: 2.7.18\n",
      "transformers: 4.49.0\n"
     ]
    }
   ],
   "source": [
    "import os, ast, inspect, pdb\n",
    "from functools import reduce\n",
    "\n",
    "from datasets import load_dataset\n",
    "from fastai.data.external import untar_data, URLs\n",
    "from fastcore.test import *\n",
    "from transformers import MBartForConditionalGeneration\n",
    "\n",
    "from blurr.utils import print_versions\n",
    "\n",
    "os.environ[\"TOKENIZERS_PARALLELISM\"] = \"false\"\n",
    "print_versions('torch fastai transformers')"
   ]
  },
  {
   "cell_type": "markdown",
   "id": "5b9342f3-6848-4263-bf92-6b49976fadbd",
   "metadata": {},
   "source": [
    "# DATASET"
   ]
  },
  {
   "cell_type": "code",
   "execution_count": 4,
   "id": "d040e961-6d34-4b21-afe0-a6518d29a9f0",
   "metadata": {},
   "outputs": [],
   "source": [
    "def listPaths(path):\n",
    "  pathfiles = list()\n",
    "  for pathfile in glob.glob(path):\n",
    "    pathfiles.append(pathfile)\n",
    "  return pathfiles\n",
    "\n",
    "train_paths = listPaths('D:/vietnews/data/train_tokenized/*')\n",
    "val_paths = listPaths('D:/vietnews/data/val_tokenized/*')\n",
    "test_paths = listPaths('D:/vietnews/data/test_tokenized/*')\n"
   ]
  },
  {
   "cell_type": "code",
   "execution_count": 5,
   "id": "95c1e38f-c71a-402c-a1d0-ab1234139eb6",
   "metadata": {},
   "outputs": [],
   "source": [
    "def read_content(pathfile):\n",
    "    \"\"\"\n",
    "    Input: Path of txt file\n",
    "    Output: A dictionary has keys 'original' and 'summary'\n",
    "    \"\"\"\n",
    "    try:\n",
    "        with open(pathfile, encoding=\"utf-8\") as f:  # Thêm encoding UTF-8\n",
    "            rows = f.readlines()\n",
    "            if len(rows) < 5:  # Kiểm tra file có đủ dòng không\n",
    "                return None\n",
    "            original = ' '.join(''.join(rows[4:]).split('\\n'))\n",
    "            summary = ' '.join(rows[2].split('\\n'))\n",
    "\n",
    "        return {'file': pathfile, 'original': original, 'summary': summary}\n",
    "    except UnicodeDecodeError:\n",
    "        print(f\"Encoding error in file: {pathfile}\")\n",
    "        return None  # Bỏ qua file bị lỗi\n"
   ]
  },
  {
   "cell_type": "code",
   "execution_count": 6,
   "id": "0983fcf8-98f6-440b-8d3b-920830d2bb35",
   "metadata": {},
   "outputs": [],
   "source": [
    "def get_dataframe(pathfiles):\n",
    "    with concurrent.futures.ThreadPoolExecutor() as executor:  # Dùng ThreadPoolExecutor thay vì ProcessPoolExecutor\n",
    "        data = list(executor.map(read_content, pathfiles))\n",
    "\n",
    "    # Loại bỏ các giá trị None (các tệp bị lỗi)\n",
    "    data_df = [d for d in data if d is not None]\n",
    "    data_df = pd.DataFrame(data_df)\n",
    "    data_df.dropna(inplace=True)\n",
    "    data_df = data_df.sample(frac=1).reset_index(drop=True)\n",
    "\n",
    "    return data_df"
   ]
  },
  {
   "cell_type": "code",
   "execution_count": 7,
   "id": "56263aea-a478-419a-8850-f1126ad62c1c",
   "metadata": {},
   "outputs": [],
   "source": [
    "train_df = get_dataframe(train_paths)\n",
    "valid_df = get_dataframe(val_paths)\n",
    "test_df = get_dataframe(test_paths)\n"
   ]
  },
  {
   "cell_type": "code",
   "execution_count": 8,
   "id": "5fcd2373-a8f6-4a4d-8fb1-31fb57cd372d",
   "metadata": {},
   "outputs": [
    {
     "name": "stdout",
     "output_type": "stream",
     "text": [
      "RAM used: 1726.07 MB\n"
     ]
    }
   ],
   "source": [
    "import psutil\n",
    "\n",
    "# Process.memory_info is expressed in bytes, so convert to megabytes\n",
    "print(f\"RAM used: {psutil.Process().memory_info().rss / (1024 * 1024):.2f} MB\")\n"
   ]
  },
  {
   "cell_type": "code",
   "execution_count": 9,
   "id": "5c428bab-928c-4877-9763-0ad341462626",
   "metadata": {},
   "outputs": [
    {
     "data": {
      "text/plain": [
       "((105418, 3), (22642, 3), (22644, 3))"
      ]
     },
     "execution_count": 9,
     "metadata": {},
     "output_type": "execute_result"
    }
   ],
   "source": [
    "train_df.shape, valid_df.shape, test_df.shape"
   ]
  },
  {
   "cell_type": "code",
   "execution_count": 10,
   "id": "83b8a8bb-6e47-457e-abbb-705067b6dce0",
   "metadata": {},
   "outputs": [],
   "source": [
    "train_df['is_valid']=False\n",
    "valid_df['is_valid']=True\n",
    "df = pd.concat([train_df, valid_df.sample(1300)]).reset_index(drop=True)"
   ]
  },
  {
   "cell_type": "code",
   "execution_count": 11,
   "id": "0897b36d-9187-49cf-8821-65ce00d91f92",
   "metadata": {},
   "outputs": [
    {
     "data": {
      "text/html": [
       "<div>\n",
       "<style scoped>\n",
       "    .dataframe tbody tr th:only-of-type {\n",
       "        vertical-align: middle;\n",
       "    }\n",
       "\n",
       "    .dataframe tbody tr th {\n",
       "        vertical-align: top;\n",
       "    }\n",
       "\n",
       "    .dataframe thead th {\n",
       "        text-align: right;\n",
       "    }\n",
       "</style>\n",
       "<table border=\"1\" class=\"dataframe\">\n",
       "  <thead>\n",
       "    <tr style=\"text-align: right;\">\n",
       "      <th></th>\n",
       "      <th>file</th>\n",
       "      <th>original</th>\n",
       "      <th>summary</th>\n",
       "      <th>is_valid</th>\n",
       "    </tr>\n",
       "  </thead>\n",
       "  <tbody>\n",
       "    <tr>\n",
       "      <th>0</th>\n",
       "      <td>D:/vietnews/data/train_tokenized\\032858.txt.seg</td>\n",
       "      <td>Hàn_Quốc tung đòn răn_đe lạnh gáy Không_quân Hàn_Quốc đã tổ_chức một cuộc diễn_tập bắn đạn thật mô_phỏng tình_huống tấn_công vào tổng_hành_dinh giới lãnh_đạo Triều_Tiên , ngay sau khi Bình_Nhưỡng phóng tên_lửa bay qua Nhật_Bản , CNN đưa tin ngày 30/8 . Chỉ vài giờ sau khi tin_tức được loan ra , Văn_phòng Tổng_thống Hàn_Quốc đã công_bố đoạn video bốn tiêm_kích F -15 K ném tám quả bom MK 84 xuống mục_tiêu mô_phỏng tại khu diễn_tập Taebaek_Pilsung ở tỉnh Gangwon cách Seoul không xa . MK 84 là loại bom hạng nặng được sử_dụng để phá_huỷ các mục_tiêu kiên_cố . Robert_Kelly , học_giả tại đại_học ...</td>\n",
       "      <td>Với việc Triều_Tiên đưa ra động_thái nghiêm_trọng mới , Hàn_Quốc được nhận_định là không_thể ngồi yên khi tên_lửa liên_tục phóng qua đầu mình .</td>\n",
       "      <td>False</td>\n",
       "    </tr>\n",
       "    <tr>\n",
       "      <th>1</th>\n",
       "      <td>D:/vietnews/data/train_tokenized\\062481.txt.seg</td>\n",
       "      <td>Buổi lễ khai_trương có sự tham_dự của đại_diện lãnh_đạo Ngân_hàng Nhà_nước chi_nhánh TP. HCM , Cục Thanh_tra Giám_sát Ngân_hàng TP. HCM , UBND xã Trung_Chánh , huyện Hóc_Môn , đại_diện lãnh_đạo TPBank cùng đông_đảo đối_tác khách_hàng thân_thiết của TPBank tại TP. Hồ_Chí_Minh . TPBank Hóc_Môn được xây_dựng theo mô_hình thiết_kế đa_năng với hệ_thống nội - ngoại_thất thân_thiện với khách_hàng , với phương_thức giao_dịch hiện_đại và đội_ngũ nhân_viên chuyên_nghiệp và nhiệt_tình . Toạ_lạc trên đường Nguyễn_Ảnh_Thủ , là khu_vực đông dân_cư với hoạt_động kinh_doanh nhộn_nhịp , sầm_uất , cửa_ngõ p...</td>\n",
       "      <td>Ngày 20/9 , được sự chấp_thuận của Ngân_hàng Nhà_nước , TPBank đã chính_thức khai_trương chi_nhánh tại địa_chỉ số 1/1 và 1/2 ấp Trung_Mỹ_Tây , xã Tân_Xuân , huyện Hóc_Môn , TP. Hồ_Chí_Minh .</td>\n",
       "      <td>False</td>\n",
       "    </tr>\n",
       "  </tbody>\n",
       "</table>\n",
       "</div>"
      ],
      "text/plain": [
       "                                              file  \\\n",
       "0  D:/vietnews/data/train_tokenized\\032858.txt.seg   \n",
       "1  D:/vietnews/data/train_tokenized\\062481.txt.seg   \n",
       "\n",
       "                                                                                                                                                                                                                                                                                                                                                                                                                                                                                                                                                                                                                  original  \\\n",
       "0  Hàn_Quốc tung đòn răn_đe lạnh gáy Không_quân Hàn_Quốc đã tổ_chức một cuộc diễn_tập bắn đạn thật mô_phỏng tình_huống tấn_công vào tổng_hành_dinh giới lãnh_đạo Triều_Tiên , ngay sau khi Bình_Nhưỡng phóng tên_lửa bay qua Nhật_Bản , CNN đưa tin ngày 30/8 . Chỉ vài giờ sau khi tin_tức được loan ra , Văn_phòng Tổng_thống Hàn_Quốc đã công_bố đoạn video bốn tiêm_kích F -15 K ném tám quả bom MK 84 xuống mục_tiêu mô_phỏng tại khu diễn_tập Taebaek_Pilsung ở tỉnh Gangwon cách Seoul không xa . MK 84 là loại bom hạng nặng được sử_dụng để phá_huỷ các mục_tiêu kiên_cố . Robert_Kelly , học_giả tại đại_học ...   \n",
       "1  Buổi lễ khai_trương có sự tham_dự của đại_diện lãnh_đạo Ngân_hàng Nhà_nước chi_nhánh TP. HCM , Cục Thanh_tra Giám_sát Ngân_hàng TP. HCM , UBND xã Trung_Chánh , huyện Hóc_Môn , đại_diện lãnh_đạo TPBank cùng đông_đảo đối_tác khách_hàng thân_thiết của TPBank tại TP. Hồ_Chí_Minh . TPBank Hóc_Môn được xây_dựng theo mô_hình thiết_kế đa_năng với hệ_thống nội - ngoại_thất thân_thiện với khách_hàng , với phương_thức giao_dịch hiện_đại và đội_ngũ nhân_viên chuyên_nghiệp và nhiệt_tình . Toạ_lạc trên đường Nguyễn_Ảnh_Thủ , là khu_vực đông dân_cư với hoạt_động kinh_doanh nhộn_nhịp , sầm_uất , cửa_ngõ p...   \n",
       "\n",
       "                                                                                                                                                                                           summary  \\\n",
       "0                                                 Với việc Triều_Tiên đưa ra động_thái nghiêm_trọng mới , Hàn_Quốc được nhận_định là không_thể ngồi yên khi tên_lửa liên_tục phóng qua đầu mình .    \n",
       "1  Ngày 20/9 , được sự chấp_thuận của Ngân_hàng Nhà_nước , TPBank đã chính_thức khai_trương chi_nhánh tại địa_chỉ số 1/1 và 1/2 ấp Trung_Mỹ_Tây , xã Tân_Xuân , huyện Hóc_Môn , TP. Hồ_Chí_Minh .    \n",
       "\n",
       "   is_valid  \n",
       "0     False  \n",
       "1     False  "
      ]
     },
     "execution_count": 11,
     "metadata": {},
     "output_type": "execute_result"
    }
   ],
   "source": [
    "df.head(2)\n"
   ]
  },
  {
   "cell_type": "markdown",
   "id": "c372d0c2-84b9-4dc7-8899-d98393e809ad",
   "metadata": {},
   "source": [
    "# PREPROCESSING"
   ]
  },
  {
   "cell_type": "code",
   "execution_count": 12,
   "id": "86ea7289-1202-4910-b61e-86ceb3ce52a2",
   "metadata": {},
   "outputs": [
    {
     "data": {
      "text/plain": [
       "('mbart',\n",
       " transformers.models.mbart.configuration_mbart.MBartConfig,\n",
       " transformers.models.phobert.tokenization_phobert.PhobertTokenizer,\n",
       " transformers.models.mbart.modeling_mbart.MBartForConditionalGeneration)"
      ]
     },
     "execution_count": 12,
     "metadata": {},
     "output_type": "execute_result"
    }
   ],
   "source": [
    "pretrained_model_name = \"vinai/bartpho-word\"\n",
    "hf_arch, hf_config, hf_tokenizer, hf_model = BLURR.get_hf_objects(pretrained_model_name,\n",
    "                                                                  model_cls=MBartForConditionalGeneration)\n",
    "# load pre-trained model\n",
    "hf_arch, type(hf_config), type(hf_tokenizer), type(hf_model)\n"
   ]
  },
  {
   "cell_type": "code",
   "execution_count": 13,
   "id": "909539d3-52e8-4e27-81ed-f12c09505787",
   "metadata": {},
   "outputs": [
    {
     "data": {
      "text/plain": [
       "file        0\n",
       "original    0\n",
       "summary     0\n",
       "is_valid    0\n",
       "dtype: int64"
      ]
     },
     "execution_count": 13,
     "metadata": {},
     "output_type": "execute_result"
    }
   ],
   "source": [
    "df.isna().sum() # check None"
   ]
  },
  {
   "cell_type": "code",
   "execution_count": 14,
   "id": "15715f06-bc70-4ee3-80d9-5fd7704b686d",
   "metadata": {},
   "outputs": [
    {
     "name": "stdout",
     "output_type": "stream",
     "text": [
      "{'input_ids': [0, 3280, 1347, 12432, 1672, 4, 70, 221, 5195, 2], 'token_type_ids': [0, 0, 0, 0, 0, 0, 0, 0, 0, 0], 'attention_mask': [1, 1, 1, 1, 1, 1, 1, 1, 1, 1]}\n"
     ]
    }
   ],
   "source": [
    "inputs = hf_tokenizer(\"Xin chào, tôi tên Khang\") # check tokenizer\n",
    "print(inputs)"
   ]
  },
  {
   "cell_type": "code",
   "execution_count": 15,
   "id": "7b306521-6d19-4f57-bae9-d5d6cad7f86b",
   "metadata": {},
   "outputs": [
    {
     "name": "stdout",
     "output_type": "stream",
     "text": [
      "<s> Xin chào, tôi tên Khang </s>\n"
     ]
    }
   ],
   "source": [
    "print(hf_tokenizer.decode(inputs['input_ids'])) # decode"
   ]
  },
  {
   "cell_type": "code",
   "execution_count": 16,
   "id": "9afd49c5-9a8e-4ed3-834f-202123c28cb9",
   "metadata": {},
   "outputs": [
    {
     "name": "stderr",
     "output_type": "stream",
     "text": [
      "C:\\Users\\PC\\AppData\\Local\\Temp\\ipykernel_6948\\4035307451.py:4: UserWarning: \n",
      "\n",
      "`distplot` is a deprecated function and will be removed in seaborn v0.14.0.\n",
      "\n",
      "Please adapt your code to use either `displot` (a figure-level function with\n",
      "similar flexibility) or `histplot` (an axes-level function for histograms).\n",
      "\n",
      "For a guide to updating your code to use the new functions, please see\n",
      "https://gist.github.com/mwaskom/de44147ed2974457ad6372750bbe5751\n",
      "\n",
      "  sns.distplot([len(hf_tokenizer(df['original'][i]).input_ids) for i in range(len(df))],ax=ax1)\n",
      "C:\\Users\\PC\\AppData\\Local\\Temp\\ipykernel_6948\\4035307451.py:5: UserWarning: \n",
      "\n",
      "`distplot` is a deprecated function and will be removed in seaborn v0.14.0.\n",
      "\n",
      "Please adapt your code to use either `displot` (a figure-level function with\n",
      "similar flexibility) or `histplot` (an axes-level function for histograms).\n",
      "\n",
      "For a guide to updating your code to use the new functions, please see\n",
      "https://gist.github.com/mwaskom/de44147ed2974457ad6372750bbe5751\n",
      "\n",
      "  sns.distplot([len(hf_tokenizer(df['summary'][i]).input_ids) for i in range(len(df))],ax=ax2)\n"
     ]
    },
    {
     "data": {
      "text/plain": [
       "<Axes: ylabel='Density'>"
      ]
     },
     "execution_count": 16,
     "metadata": {},
     "output_type": "execute_result"
    },
    {
     "data": {
      "image/png": "[encoded data removed]",
      "text/plain": [
       "<Figure size 1600x800 with 2 Axes>"
      ]
     },
     "metadata": {},
     "output_type": "display_data"
    }
   ],
   "source": [
    "import matplotlib.pyplot as plt\n",
    "import seaborn as sns\n",
    "fig, (ax1,ax2) = plt.subplots(1,2,figsize=(16,8))\n",
    "sns.distplot([len(hf_tokenizer(df['original'][i]).input_ids) for i in range(len(df))],ax=ax1)\n",
    "sns.distplot([len(hf_tokenizer(df['summary'][i]).input_ids) for i in range(len(df))],ax=ax2)\n",
    "# number tokens per sentence.\n"
   ]
  },
  {
   "cell_type": "code",
   "execution_count": 17,
   "id": "f5c01589-be28-4435-83fa-cb23734b5d08",
   "metadata": {},
   "outputs": [
    {
     "name": "stdout",
     "output_type": "stream",
     "text": [
      "2338\n"
     ]
    }
   ],
   "source": [
    "org_trunc = [len(hf_tokenizer(df['original'][i]).input_ids) for i in range(len(df))]\n",
    "print(len([s for s in org_trunc if s > 1024])) # 2334 sentence has tokens > 1024"
   ]
  },
  {
   "cell_type": "code",
   "execution_count": 18,
   "id": "ade2c1a5-958c-452e-8b04-6c8fa36581d2",
   "metadata": {},
   "outputs": [
    {
     "name": "stdout",
     "output_type": "stream",
     "text": [
      "33217\n"
     ]
    }
   ],
   "source": [
    "org_trunc = [len(hf_tokenizer(df['original'][i]).input_ids) for i in range(len(df))]\n",
    "print(len([s for s in org_trunc if s > 512])) # 2817 sentence has tokens > 512"
   ]
  },
  {
   "cell_type": "code",
   "execution_count": 19,
   "id": "74f6a6fd-3c9f-4852-bcc7-427ea51ad754",
   "metadata": {},
   "outputs": [
    {
     "name": "stdout",
     "output_type": "stream",
     "text": [
      "1543\n"
     ]
    }
   ],
   "source": [
    "sry_trunc= [len(hf_tokenizer(df['summary'][i]).input_ids) for i in range(len(df))]\n",
    "print(len([s for s in sry_trunc if s > 64])) # 1538 sentence has tokens > 64"
   ]
  },
  {
   "cell_type": "code",
   "execution_count": 20,
   "id": "d906c448-58f1-4a4f-b0bf-9a6ee355019c",
   "metadata": {},
   "outputs": [
    {
     "name": "stdout",
     "output_type": "stream",
     "text": [
      "PhobertTokenizer(name_or_path='vinai/bartpho-word', vocab_size=64000, model_max_length=1000000000000000019884624838656, is_fast=False, padding_side='right', truncation_side='right', special_tokens={'bos_token': '<s>', 'eos_token': '</s>', 'unk_token': '<unk>', 'sep_token': '</s>', 'pad_token': '<pad>', 'cls_token': '<s>', 'mask_token': '<mask>'}, clean_up_tokenization_spaces=False, added_tokens_decoder={\n",
      "\t0: AddedToken(\"<s>\", rstrip=False, lstrip=False, single_word=False, normalized=False, special=True),\n",
      "\t1: AddedToken(\"<pad>\", rstrip=False, lstrip=False, single_word=False, normalized=False, special=True),\n",
      "\t2: AddedToken(\"</s>\", rstrip=False, lstrip=False, single_word=False, normalized=False, special=True),\n",
      "\t3: AddedToken(\"<unk>\", rstrip=False, lstrip=False, single_word=False, normalized=False, special=True),\n",
      "\t64000: AddedToken(\"<mask>\", rstrip=False, lstrip=False, single_word=False, normalized=False, special=True),\n",
      "}\n",
      ")\n",
      "MBartConfig {\n",
      "  \"_name_or_path\": \"vinai/bartpho-word\",\n",
      "  \"activation_dropout\": 0.0,\n",
      "  \"activation_function\": \"gelu\",\n",
      "  \"architectures\": [\n",
      "    \"MBartModel\"\n",
      "  ],\n",
      "  \"attention_dropout\": 0.0,\n",
      "  \"bos_token_id\": 0,\n",
      "  \"classifier_dropout\": 0.0,\n",
      "  \"d_model\": 1024,\n",
      "  \"decoder_attention_heads\": 16,\n",
      "  \"decoder_ffn_dim\": 4096,\n",
      "  \"decoder_layerdrop\": 0.0,\n",
      "  \"decoder_layers\": 12,\n",
      "  \"decoder_start_token_id\": 2,\n",
      "  \"dropout\": 0.1,\n",
      "  \"encoder_attention_heads\": 16,\n",
      "  \"encoder_ffn_dim\": 4096,\n",
      "  \"encoder_layerdrop\": 0.0,\n",
      "  \"encoder_layers\": 12,\n",
      "  \"eos_token_id\": 2,\n",
      "  \"forced_eos_token_id\": 2,\n",
      "  \"gradient_checkpointing\": false,\n",
      "  \"init_std\": 0.02,\n",
      "  \"is_encoder_decoder\": true,\n",
      "  \"max_position_embeddings\": 1024,\n",
      "  \"model_type\": \"mbart\",\n",
      "  \"num_hidden_layers\": 12,\n",
      "  \"pad_token_id\": 1,\n",
      "  \"scale_embedding\": false,\n",
      "  \"tokenizer_class\": \"PhobertTokenizer\",\n",
      "  \"torch_dtype\": \"float32\",\n",
      "  \"transformers_version\": \"4.49.0\",\n",
      "  \"use_cache\": true,\n",
      "  \"vocab_size\": 64001\n",
      "}\n",
      "\n",
      "MBartForConditionalGeneration(\n",
      "  (model): MBartModel(\n",
      "    (shared): MBartScaledWordEmbedding(64001, 1024, padding_idx=1)\n",
      "    (encoder): MBartEncoder(\n",
      "      (embed_tokens): MBartScaledWordEmbedding(64001, 1024, padding_idx=1)\n",
      "      (embed_positions): MBartLearnedPositionalEmbedding(1026, 1024)\n",
      "      (layers): ModuleList(\n",
      "        (0-11): 12 x MBartEncoderLayer(\n",
      "          (self_attn): MBartSdpaAttention(\n",
      "            (k_proj): Linear(in_features=1024, out_features=1024, bias=True)\n",
      "            (v_proj): Linear(in_features=1024, out_features=1024, bias=True)\n",
      "            (q_proj): Linear(in_features=1024, out_features=1024, bias=True)\n",
      "            (out_proj): Linear(in_features=1024, out_features=1024, bias=True)\n",
      "          )\n",
      "          (self_attn_layer_norm): LayerNorm((1024,), eps=1e-05, elementwise_affine=True)\n",
      "          (activation_fn): GELUActivation()\n",
      "          (fc1): Linear(in_features=1024, out_features=4096, bias=True)\n",
      "          (fc2): Linear(in_features=4096, out_features=1024, bias=True)\n",
      "          (final_layer_norm): LayerNorm((1024,), eps=1e-05, elementwise_affine=True)\n",
      "        )\n",
      "      )\n",
      "      (layernorm_embedding): LayerNorm((1024,), eps=1e-05, elementwise_affine=True)\n",
      "      (layer_norm): LayerNorm((1024,), eps=1e-05, elementwise_affine=True)\n",
      "    )\n",
      "    (decoder): MBartDecoder(\n",
      "      (embed_tokens): MBartScaledWordEmbedding(64001, 1024, padding_idx=1)\n",
      "      (embed_positions): MBartLearnedPositionalEmbedding(1026, 1024)\n",
      "      (layers): ModuleList(\n",
      "        (0-11): 12 x MBartDecoderLayer(\n",
      "          (self_attn): MBartSdpaAttention(\n",
      "            (k_proj): Linear(in_features=1024, out_features=1024, bias=True)\n",
      "            (v_proj): Linear(in_features=1024, out_features=1024, bias=True)\n",
      "            (q_proj): Linear(in_features=1024, out_features=1024, bias=True)\n",
      "            (out_proj): Linear(in_features=1024, out_features=1024, bias=True)\n",
      "          )\n",
      "          (activation_fn): GELUActivation()\n",
      "          (self_attn_layer_norm): LayerNorm((1024,), eps=1e-05, elementwise_affine=True)\n",
      "          (encoder_attn): MBartSdpaAttention(\n",
      "            (k_proj): Linear(in_features=1024, out_features=1024, bias=True)\n",
      "            (v_proj): Linear(in_features=1024, out_features=1024, bias=True)\n",
      "            (q_proj): Linear(in_features=1024, out_features=1024, bias=True)\n",
      "            (out_proj): Linear(in_features=1024, out_features=1024, bias=True)\n",
      "          )\n",
      "          (encoder_attn_layer_norm): LayerNorm((1024,), eps=1e-05, elementwise_affine=True)\n",
      "          (fc1): Linear(in_features=1024, out_features=4096, bias=True)\n",
      "          (fc2): Linear(in_features=4096, out_features=1024, bias=True)\n",
      "          (final_layer_norm): LayerNorm((1024,), eps=1e-05, elementwise_affine=True)\n",
      "        )\n",
      "      )\n",
      "      (layernorm_embedding): LayerNorm((1024,), eps=1e-05, elementwise_affine=True)\n",
      "      (layer_norm): LayerNorm((1024,), eps=1e-05, elementwise_affine=True)\n",
      "    )\n",
      "  )\n",
      "  (lm_head): Linear(in_features=1024, out_features=64001, bias=False)\n",
      ")\n"
     ]
    },
    {
     "data": {
      "text/plain": [
       "(None, None, None)"
      ]
     },
     "execution_count": 20,
     "metadata": {},
     "output_type": "execute_result"
    }
   ],
   "source": [
    "print(hf_tokenizer), print(hf_config), print(hf_model)\n"
   ]
  },
  {
   "cell_type": "code",
   "execution_count": 21,
   "id": "546e269b-c699-437d-ab79-4784a24c17fb",
   "metadata": {},
   "outputs": [],
   "source": [
    "tok_kwargs = {}\n",
    "if (hf_arch == 'mbart'):\n",
    "    tok_kwargs['src_lang'], tok_kwargs['tgt_lang'] = \"Vi\", \"Vi\""
   ]
  },
  {
   "cell_type": "code",
   "execution_count": 22,
   "id": "52d1afec-37f4-44ec-939d-6992229e850b",
   "metadata": {},
   "outputs": [],
   "source": [
    "before_batch_tfm = HF_Seq2SeqBeforeBatchTransform(hf_arch, hf_config, hf_tokenizer, hf_model,\n",
    "                                                  max_length=512, max_target_length=128,\n",
    "                                                  tok_kwargs=tok_kwargs)\n",
    "\n",
    "blocks = (HF_Seq2SeqBlock(before_batch_tfm=before_batch_tfm), noop)\n",
    "\n",
    "dblock = DataBlock(blocks=blocks,\n",
    "                   get_x=ColReader('original'),\n",
    "                   get_y=ColReader('summary'),\n",
    "                   splitter=ColSplitter('is_valid'))\n",
    "# prepare data for train model."
   ]
  },
  {
   "cell_type": "code",
   "execution_count": 23,
   "id": "3b6b8cc5-843d-4848-84ff-6e5f997ede75",
   "metadata": {},
   "outputs": [
    {
     "name": "stderr",
     "output_type": "stream",
     "text": [
      "C:\\Users\\PC\\AppData\\Local\\Programs\\Python\\Python311\\Lib\\site-packages\\transformers\\tokenization_utils_base.py:3970: UserWarning: `as_target_tokenizer` is deprecated and will be removed in v5 of Transformers. You can tokenize your labels by using the argument `text_target` of the regular `__call__` method (either in the same call as your input texts if you use the same keyword arguments, or in a separate call.\n",
      "  warnings.warn(\n"
     ]
    }
   ],
   "source": [
    "dls = dblock.dataloaders(df, bs=8) # create dataloader"
   ]
  },
  {
   "cell_type": "code",
   "execution_count": 24,
   "id": "45418ffa-216e-4927-9bf9-27c7ea1bade5",
   "metadata": {},
   "outputs": [
    {
     "data": {
      "text/plain": [
       "('Cuộc_thi vừa kết_thúc tại tỉnh Ninh_Bình ngày 26-8 . Cuộc thi có 18 đội đến từ 17 nước và vùng lãnh_thổ tham_gia , trong đó nước chủ_nhà Việt_Nam có 2 đội là LH - ATM ( Việt Nam 1 ) và LH - Galaxy ( Việt Nam 2 ) đều đến từ Trường ĐH Lạc_Hồng ( tỉnh Đồng_Nai ) . Cuộc thi năm nay với chủ_đề \" ném còn \" , dựa trên trò_chơi dân_gian của đồng_bào dân_tộc vùng Tây_Bắc . Trong thời_gian tối_đa 3 phút , robot điều_khiển trao quả còn cho robot tự_động ném qua các vòng_tròn trên sân thi_đấu . Đội nào ném quả còn vàng qua vòng và đậu lên trên mâm còn vàng là giành chiến_thắng tuyệt_đối , gọi là \" rồng bay \" . Đây là lần thứ 7 , Việt Nam có đội vô_địch ở cuộc_thi ABU Robocon và Trường ĐH Lạc_Hồng đóng_góp 3 lần vào các năm 2013 , 2017 và năm nay . ABU Robocon 2019 sẽ được tổ_chức tại Mông_Cổ .  Các thành_viên đội LH - Galaxy vui_mừng sau khi giành ngôi vô_địch Robocon - Ảnh : QUANG_PHƯƠNG ',\n",
       " 'Vượt qua đối_thủ nặng_ký Trung_Quốc , đội LH - Galaxy của Việt_Nam đã xuất_sắc giành ngôi vô_địch tại vòng chung_kết Cuộc thi sáng_tạo robot châu_Á - Thái_Bình_Dương 2018 ( ABU Robocon ) . ')"
      ]
     },
     "execution_count": 24,
     "metadata": {},
     "output_type": "execute_result"
    }
   ],
   "source": [
    "dls.valid_ds[0]"
   ]
  },
  {
   "cell_type": "code",
   "execution_count": 25,
   "id": "f221d00a-6442-4bf4-bfa0-8fb5334c86e8",
   "metadata": {},
   "outputs": [
    {
     "data": {
      "text/plain": [
       "2"
      ]
     },
     "execution_count": 25,
     "metadata": {},
     "output_type": "execute_result"
    }
   ],
   "source": [
    "b = dls.one_batch() # pick one batch\n",
    "len(b)"
   ]
  },
  {
   "cell_type": "code",
   "execution_count": 26,
   "id": "eab65da7-f582-4b64-8632-1f5ec6a2655c",
   "metadata": {},
   "outputs": [
    {
     "data": {
      "text/plain": [
       "torch.Size([8, 512])"
      ]
     },
     "execution_count": 26,
     "metadata": {},
     "output_type": "execute_result"
    }
   ],
   "source": [
    "b[0]['token_type_ids'].shape"
   ]
  },
  {
   "cell_type": "code",
   "execution_count": 27,
   "id": "bcd1f1e7-b605-427d-b1e5-3fc3ba67e15d",
   "metadata": {},
   "outputs": [
    {
     "data": {
      "text/plain": [
       "torch.Size([8, 106])"
      ]
     },
     "execution_count": 27,
     "metadata": {},
     "output_type": "execute_result"
    }
   ],
   "source": [
    "b[0]['labels'].shape"
   ]
  },
  {
   "cell_type": "code",
   "execution_count": 28,
   "id": "2f152452-a2c1-4314-a109-5d1a4f561cb6",
   "metadata": {},
   "outputs": [
    {
     "data": {
      "text/plain": [
       "torch.Size([8, 512])"
      ]
     },
     "execution_count": 28,
     "metadata": {},
     "output_type": "execute_result"
    }
   ],
   "source": [
    "b[0]['input_ids'].shape"
   ]
  },
  {
   "cell_type": "code",
   "execution_count": 29,
   "id": "06c47a8a-aa9e-462a-a4ed-e056e76fec2b",
   "metadata": {},
   "outputs": [
    {
     "data": {
      "text/plain": [
       "torch.Size([8, 106])"
      ]
     },
     "execution_count": 29,
     "metadata": {},
     "output_type": "execute_result"
    }
   ],
   "source": [
    "b[1].shape"
   ]
  },
  {
   "cell_type": "code",
   "execution_count": 30,
   "id": "990d0c94-7cdb-421d-97b9-fa30226bbfce",
   "metadata": {},
   "outputs": [
    {
     "data": {
      "text/html": [
       "<table border=\"1\" class=\"dataframe\">\n",
       "  <thead>\n",
       "    <tr style=\"text-align: right;\">\n",
       "      <th></th>\n",
       "      <th>text</th>\n",
       "      <th>target</th>\n",
       "    </tr>\n",
       "  </thead>\n",
       "  <tbody>\n",
       "    <tr>\n",
       "      <th>0</th>\n",
       "      <td>&lt;s&gt; Trường đại học Quốc_tế , đại học Quốc_gia TP. Hồ Chí Minh vừa công_bố điểm chuẩn kỳ thi đánh_giá năng_lực đại học Quốc_gia TP. Hồ Chí Minh năm 2019 . Theo đó , những ngành có điểm chuẩn cao nhất là 920 điểm và thấp nhất là 650 điểm . Thí_sinh trúng_tuyển phải nộp bản_chính giấy chứng_n</td>\n",
       "      <td>Các trường , khoa , viện trực_thuộc đại học Quốc_gia TP. Hồ Chí Minh đều đã công_bố điểm chuẩn trúng_tuyển phương_thức xét kết_quả thi đánh_giá năng_lực năm 2019 .</td>\n",
       "    </tr>\n",
       "    <tr>\n",
       "      <th>1</th>\n",
       "      <td>&lt;s&gt; Đồng_thời với việc bổ_sung các quy_định pháp_luật , cần phải có giải_pháp , cơ_chế để giám_sát được thời_gian làm_việc của các tài_xế . Đánh_giá , giám_sát được chất_lượng của việc khám sức_khoẻ định_kỳ cho tài_xế . Bà Nguyễn_Thị_Chúc_LinhNgoài những việc mà chủ xe , chủ doanh_nghiệp vận_tải có_</td>\n",
       "      <td>Từ những vụ tai_nạn giao_thông thảm_khốc , trong đó có nhiều vụ được xác_định lỗi do tài_xế như uống rượu_bia , sử_dụng ma_tuý ... , nhiều người cho_rằng cần đặt ra vấn_đề trách_nhiệm của chủ xe , doanh_nghiệp kinh_doanh vận_tải .</td>\n",
       "    </tr>\n",
       "  </tbody>\n",
       "</table>"
      ],
      "text/plain": [
       "<IPython.core.display.HTML object>"
      ]
     },
     "metadata": {},
     "output_type": "display_data"
    }
   ],
   "source": [
    "dls.valid.show_batch(dataloaders=dls, max_n=2, input_trunc_at=300)"
   ]
  },
  {
   "cell_type": "code",
   "execution_count": 31,
   "id": "d077cf27-f845-4af2-bd9e-0198a988d3e1",
   "metadata": {},
   "outputs": [],
   "source": [
    "seq2seq_metrics = {\n",
    "        'rouge': {\n",
    "            'compute_kwargs': { 'rouge_types': [\"rouge1\", \"rouge2\", \"rougeL\"], 'use_stemmer': True },\n",
    "            'returns': [\"rouge1\", \"rouge2\", \"rougeL\"]\n",
    "        }\n",
    "    }\n"
   ]
  },
  {
   "cell_type": "code",
   "execution_count": 32,
   "id": "d5ad6365-de2e-4ff3-985d-840552fe397e",
   "metadata": {},
   "outputs": [],
   "source": [
    "model = HF_BaseModelWrapper(hf_model)\n",
    "learn_cbs = [HF_BaseModelCallback]\n",
    "fit_cbs = [HF_Seq2SeqMetricsCallback(custom_metrics=seq2seq_metrics)]\n",
    "\n",
    "learn = Learner(dls,\n",
    "                model,\n",
    "                opt_func=partial(Adam),\n",
    "                loss_func=CrossEntropyLossFlat(),\n",
    "                cbs=learn_cbs,\n",
    "                splitter=partial(seq2seq_splitter, arch=hf_arch)).to_fp16()\n",
    "# model"
   ]
  },
  {
   "cell_type": "code",
   "execution_count": 33,
   "id": "661e6861-05ea-4c9b-8602-b52569024515",
   "metadata": {},
   "outputs": [],
   "source": [
    "learn.freeze()"
   ]
  },
  {
   "cell_type": "code",
   "execution_count": 34,
   "id": "115abb2b-ef2a-4105-adf1-8f6b86543b5d",
   "metadata": {},
   "outputs": [],
   "source": [
    "ob = dls.one_batch()\n",
    "preds = learn.model(ob[0]) # predict on one batch"
   ]
  },
  {
   "cell_type": "code",
   "execution_count": 43,
   "id": "de9f7c51-6801-4c90-9d1a-bf0ddd4f06b1",
   "metadata": {},
   "outputs": [
    {
     "data": {
      "text/plain": [
       "(tensor(5.3414, device='cuda:0', grad_fn=<NllLossBackward0>),\n",
       " torch.Size([8, 43, 64001]),\n",
       " torch.Size([8, 512, 1024]))"
      ]
     },
     "execution_count": 43,
     "metadata": {},
     "output_type": "execute_result"
    }
   ],
   "source": [
    "preds['loss'], preds['logits'].shape, preds['encoder_last_hidden_state'].shape"
   ]
  },
  {
   "cell_type": "code",
   "execution_count": 44,
   "id": "4c3be078-4e0a-4bf6-a580-209ca587d2fd",
   "metadata": {},
   "outputs": [
    {
     "name": "stdout",
     "output_type": "stream",
     "text": [
      "3\n"
     ]
    }
   ],
   "source": [
    "print(len(learn.opt.param_groups))"
   ]
  },
  {
   "cell_type": "code",
   "execution_count": 45,
   "id": "9f9cba88-5613-497e-9cf4-bdeb2e59dfe1",
   "metadata": {},
   "outputs": [
    {
     "name": "stderr",
     "output_type": "stream",
     "text": [
      "C:\\Users\\PC\\AppData\\Local\\Programs\\Python\\Python311\\Lib\\site-packages\\fastai\\callback\\fp16.py:47: FutureWarning: `torch.cuda.amp.autocast(args...)` is deprecated. Please use `torch.amp.autocast('cuda', args...)` instead.\n",
      "  self.autocast,self.learn.scaler,self.scales = autocast(dtype=dtype),GradScaler(**self.kwargs),L()\n",
      "C:\\Users\\PC\\AppData\\Local\\Programs\\Python\\Python311\\Lib\\site-packages\\fastai\\callback\\fp16.py:47: FutureWarning: `torch.cuda.amp.GradScaler(args...)` is deprecated. Please use `torch.amp.GradScaler('cuda', args...)` instead.\n",
      "  self.autocast,self.learn.scaler,self.scales = autocast(dtype=dtype),GradScaler(**self.kwargs),L()\n"
     ]
    },
    {
     "data": {
      "text/html": [
       "\n",
       "<style>\n",
       "    /* Turns off some styling */\n",
       "    progress {\n",
       "        /* gets rid of default border in Firefox and Opera. */\n",
       "        border: none;\n",
       "        /* Needs to be in here for Safari polyfill so background images work as expected. */\n",
       "        background-size: auto;\n",
       "    }\n",
       "    progress:not([value]), progress:not([value])::-webkit-progress-bar {\n",
       "        background: repeating-linear-gradient(45deg, #7e7e7e, #7e7e7e 10px, #5c5c5c 10px, #5c5c5c 20px);\n",
       "    }\n",
       "    .progress-bar-interrupted, .progress-bar-interrupted::-webkit-progress-bar {\n",
       "        background: #F44336;\n",
       "    }\n",
       "</style>\n"
      ],
      "text/plain": [
       "<IPython.core.display.HTML object>"
      ]
     },
     "metadata": {},
     "output_type": "display_data"
    },
    {
     "data": {
      "text/html": [],
      "text/plain": [
       "<IPython.core.display.HTML object>"
      ]
     },
     "metadata": {},
     "output_type": "display_data"
    },
    {
     "name": "stderr",
     "output_type": "stream",
     "text": [
      "C:\\Users\\PC\\AppData\\Local\\Programs\\Python\\Python311\\Lib\\site-packages\\fastai\\learner.py:53: FutureWarning: You are using `torch.load` with `weights_only=False` (the current default value), which uses the default pickle module implicitly. It is possible to construct malicious pickle data which will execute arbitrary code during unpickling (See https://github.com/pytorch/pytorch/blob/main/SECURITY.md#untrusted-models for more details). In a future release, the default value for `weights_only` will be flipped to `True`. This limits the functions that could be executed during unpickling. Arbitrary objects will no longer be allowed to be loaded via this mode unless they are explicitly allowlisted by the user via `torch.serialization.add_safe_globals`. We recommend you start setting `weights_only=True` for any use case where you don't have full control of the loaded file. Please open an issue on GitHub for any issues related to this experimental feature.\n",
      "  state = torch.load(file, map_location=device, **torch_load_kwargs)\n"
     ]
    },
    {
     "data": {
      "text/plain": [
       "SuggestedLRs(minimum=0.0002511886414140463, steep=2.511886486900039e-05, valley=4.365158383734524e-05, slide=0.0030199517495930195)"
      ]
     },
     "execution_count": 45,
     "metadata": {},
     "output_type": "execute_result"
    },
    {
     "data": {
      "image/png": "[encoded data removed]",
      "text/plain": [
       "<Figure size 640x480 with 1 Axes>"
      ]
     },
     "metadata": {},
     "output_type": "display_data"
    }
   ],
   "source": [
    "learn.lr_find(suggest_funcs=[minimum, steep, valley, slide]) # find learning rate"
   ]
  },
  {
   "cell_type": "code",
   "execution_count": 46,
   "id": "03a7df07-8dc3-47a4-b248-333670726add",
   "metadata": {},
   "outputs": [
    {
     "data": {
      "text/html": [
       "\n",
       "<style>\n",
       "    /* Turns off some styling */\n",
       "    progress {\n",
       "        /* gets rid of default border in Firefox and Opera. */\n",
       "        border: none;\n",
       "        /* Needs to be in here for Safari polyfill so background images work as expected. */\n",
       "        background-size: auto;\n",
       "    }\n",
       "    progress:not([value]), progress:not([value])::-webkit-progress-bar {\n",
       "        background: repeating-linear-gradient(45deg, #7e7e7e, #7e7e7e 10px, #5c5c5c 10px, #5c5c5c 20px);\n",
       "    }\n",
       "    .progress-bar-interrupted, .progress-bar-interrupted::-webkit-progress-bar {\n",
       "        background: #F44336;\n",
       "    }\n",
       "</style>\n"
      ],
      "text/plain": [
       "<IPython.core.display.HTML object>"
      ]
     },
     "metadata": {},
     "output_type": "display_data"
    },
    {
     "data": {
      "text/html": [
       "<table border=\"1\" class=\"dataframe\">\n",
       "  <thead>\n",
       "    <tr style=\"text-align: left;\">\n",
       "      <th>epoch</th>\n",
       "      <th>train_loss</th>\n",
       "      <th>valid_loss</th>\n",
       "      <th>rouge1</th>\n",
       "      <th>rouge2</th>\n",
       "      <th>rougeL</th>\n",
       "      <th>time</th>\n",
       "    </tr>\n",
       "  </thead>\n",
       "  <tbody>\n",
       "    <tr>\n",
       "      <td>0</td>\n",
       "      <td>1.627032</td>\n",
       "      <td>1.524493</td>\n",
       "      <td>0.521937</td>\n",
       "      <td>0.245442</td>\n",
       "      <td>0.356373</td>\n",
       "      <td>1:28:42</td>\n",
       "    </tr>\n",
       "    <tr>\n",
       "      <td>1</td>\n",
       "      <td>1.333687</td>\n",
       "      <td>1.393968</td>\n",
       "      <td>0.536871</td>\n",
       "      <td>0.263624</td>\n",
       "      <td>0.371409</td>\n",
       "      <td>1:05:12</td>\n",
       "    </tr>\n",
       "    <tr>\n",
       "      <td>2</td>\n",
       "      <td>1.070207</td>\n",
       "      <td>1.395703</td>\n",
       "      <td>0.537844</td>\n",
       "      <td>0.264025</td>\n",
       "      <td>0.371723</td>\n",
       "      <td>1:17:29</td>\n",
       "    </tr>\n",
       "  </tbody>\n",
       "</table>"
      ],
      "text/plain": [
       "<IPython.core.display.HTML object>"
      ]
     },
     "metadata": {},
     "output_type": "display_data"
    }
   ],
   "source": [
    "learn.fit_one_cycle(3, lr_max=1e-4, cbs=fit_cbs)"
   ]
  },
  {
   "cell_type": "code",
   "execution_count": 63,
   "id": "27710320-02be-497b-a1eb-9a0eef065e2e",
   "metadata": {},
   "outputs": [
    {
     "name": "stdout",
     "output_type": "stream",
     "text": [
      "C:\\Users\\PC\\AppData\\Local\\Programs\\Python\\Python311\\Lib\\site-packages\\blurr\\modeling\\seq2seq\\core.py\n"
     ]
    }
   ],
   "source": [
    "import blurr.modeling.seq2seq.core\n",
    "print(blurr.modeling.seq2seq.core.__file__)\n"
   ]
  },
  {
   "cell_type": "code",
   "execution_count": 47,
   "id": "7b794b61-ef67-4fe4-8966-5f268e16032a",
   "metadata": {},
   "outputs": [
    {
     "data": {
      "text/html": [
       "\n",
       "<style>\n",
       "    /* Turns off some styling */\n",
       "    progress {\n",
       "        /* gets rid of default border in Firefox and Opera. */\n",
       "        border: none;\n",
       "        /* Needs to be in here for Safari polyfill so background images work as expected. */\n",
       "        background-size: auto;\n",
       "    }\n",
       "    progress:not([value]), progress:not([value])::-webkit-progress-bar {\n",
       "        background: repeating-linear-gradient(45deg, #7e7e7e, #7e7e7e 10px, #5c5c5c 10px, #5c5c5c 20px);\n",
       "    }\n",
       "    .progress-bar-interrupted, .progress-bar-interrupted::-webkit-progress-bar {\n",
       "        background: #F44336;\n",
       "    }\n",
       "</style>\n"
      ],
      "text/plain": [
       "<IPython.core.display.HTML object>"
      ]
     },
     "metadata": {},
     "output_type": "display_data"
    },
    {
     "data": {
      "text/html": [],
      "text/plain": [
       "<IPython.core.display.HTML object>"
      ]
     },
     "metadata": {},
     "output_type": "display_data"
    },
    {
     "data": {
      "text/html": [
       "<table border=\"1\" class=\"dataframe\">\n",
       "  <thead>\n",
       "    <tr style=\"text-align: right;\">\n",
       "      <th></th>\n",
       "      <th>text</th>\n",
       "      <th>target</th>\n",
       "      <th>prediction</th>\n",
       "    </tr>\n",
       "  </thead>\n",
       "  <tbody>\n",
       "    <tr>\n",
       "      <th>0</th>\n",
       "      <td>Trường đại học Quốc_tế , đại học Quốc_gia TP. Hồ Chí Minh vừa công_bố điểm chuẩn kỳ thi đánh_giá năng_lực đại học Quốc_gia TP. Hồ Chí Minh năm 2019 . Theo đó , những ngành có điểm chuẩn cao nhất là 920 điểm và thấp nhất là 650 điểm . Thí_sinh trú</td>\n",
       "      <td>Các trường , khoa , viện trực_thuộc đại học Quốc_gia TP. Hồ Chí Minh đều đã công_bố điểm chuẩn trúng_tuyển phương_thức xét kết_quả thi đánh_giá năng_lực năm 2019 .</td>\n",
       "      <td>Trường đại học Quốc_tế , đại học Quố@@</td>\n",
       "    </tr>\n",
       "    <tr>\n",
       "      <th>1</th>\n",
       "      <td>Theo kết_luận thanh_tra ( KLTT ) vừa được Thanh_tra Chính_phủ ( TTCP ) ban_hành , đến nay dự_án mở_rộng sản_xuất giai_đoạn 2 Công_ty Gang_thép Thái_Nguyên ( TISCO ) được đầu_tư tổng_số tiền đã thanh_toán hơn 4.400 tỉ đồng và tổng dư_nợ gốc , lãi vay ngân_h</td>\n",
       "      <td>Một trong những sai_phạm nghiêm_trọng tại dự_án mở_rộng giai_đoạn 2 Nhà_máy Gang_thép Thái_Nguyên được Thanh_tra Chính_phủ chỉ ra là nhiều loại thiết_bị được nhập với trị_giá hàng triệu USD nhưng sai chủng_loại .</td>\n",
       "      <td>Dự_án mở_rộng sản_xuất giai_đoạn 2 Công_ty Gang_thép Thái_Nguyên được đầu_tư hơn 4.400 tỉ đồng , đã thanh_toán hơn</td>\n",
       "    </tr>\n",
       "  </tbody>\n",
       "</table>"
      ],
      "text/plain": [
       "<IPython.core.display.HTML object>"
      ]
     },
     "metadata": {},
     "output_type": "display_data"
    }
   ],
   "source": [
    "learn.show_results(learner=learn, input_trunc_at=256, max_n=2)"
   ]
  },
  {
   "cell_type": "markdown",
   "id": "c623595c-f2a6-4a83-bd32-a61e8b62fd2c",
   "metadata": {},
   "source": [
    "# INFERENCE"
   ]
  },
  {
   "cell_type": "code",
   "execution_count": 64,
   "id": "8111cbcc-cf40-42d2-add5-4bf1ff59880f",
   "metadata": {},
   "outputs": [
    {
     "data": {
      "text/plain": [
       "'Trùm sòng bạc Trung_Quốc Jack_Lam . Các cảnh_sát mở cuộc truy_nã trên toàn_quốc để bắt ông Lam , theo lệnh trực_tiếp của Tổng_thống Rodrigo_Duterte , với cáo_buộc hối_lộ và \" phá_hoại nền kinh_tế \" , Rappler dẫn lời lãnh_đạo Cảnh_sát Quốc_gia Philippines_Ronald dela Rosa hôm 3/12 cho biết . Một ngày sau , Cục Nhập_cư phát thông_cáo , cho_biết Lam_Yin_Yok ( được cho là tên thật của ông Lam ) rời Philippines hôm 29/11 trên chuyến bay Cathay_Pacific tới Hong_Kong . Luật_sư của ông Lam chưa bình_luận công_khai về cáo_buộc cũng như nơi ở hiện_tại của ông . Lam bị_cáo buộc âm_mưu hối_lộ Bộ_trưởng Tư_pháp Vitaliano_Aguirre cũng như Andrea_Domingo , Chủ_tịch tập_đoàn Trò_chơi Giải_trí ( Pagcor ) , sau khi cảnh_sát lục_soát sòng bài Fontana của ông Lam ở vùng Clark , tỉnh Pampanga . Tại đây hôm 24/11 , họ bắt hơn 1.300 công_dân Trung_Quốc làm_việc bất_hợp_pháp . Ông Aguirre hôm 26/11 gặp ông Lam ở thành_phố thành_phố Taguig , trực_thuộc vùng đô_thị Manila , sau khi các công_dân Trung_Quốc bị bắt . Phe của Lam cho_hay cuộc gặp chỉ nhằm nhấn_mạnh với ông Aguirre rằng hoạt_động của Fontana hợp_pháp , việc bắt_giữ công_dân liên_quan đến vấn_đề nhập_cảnh chứ không phải hoạt_động đánh_bạc trực_tuyến . Trọng_Giáp   Trùm sòng bạc Trung_Quốc Jack_Lam . '"
      ]
     },
     "execution_count": 64,
     "metadata": {},
     "output_type": "execute_result"
    }
   ],
   "source": [
    "test_df['original'][1]"
   ]
  },
  {
   "cell_type": "code",
   "execution_count": 66,
   "id": "e572d242-ece0-4577-a38d-bb63d5bbb6dd",
   "metadata": {},
   "outputs": [
    {
     "name": "stdout",
     "output_type": "stream",
     "text": [
      "=== Prediction ===\n",
      "Cảnh_sát Philippines hôm_nay phát lệnh truy_nã trên toàn_quốc với ông Jack_Lam , trùm sòng bạc lớn\n",
      "\n"
     ]
    }
   ],
   "source": [
    "outputs = learn.blurr_generate(test_df['original'][1])\n",
    "\n",
    "print(f'=== Prediction ===\\n{outputs[0]}\\n')"
   ]
  },
  {
   "cell_type": "markdown",
   "id": "6a4ada09-9323-4480-82b9-cc7bfa657d77",
   "metadata": {},
   "source": [
    "# SAVE MODEL"
   ]
  },
  {
   "cell_type": "code",
   "execution_count": 57,
   "id": "5530d297-9b5c-4431-9b2e-627218dfb720",
   "metadata": {},
   "outputs": [
    {
     "data": {
      "application/vnd.jupyter.widget-view+json": {
       "model_id": "cceaf85c616d42719146b36a1756d2e4",
       "version_major": 2,
       "version_minor": 0
      },
      "text/plain": [
       "VBox(children=(HTML(value='<center> <img\\nsrc=https://huggingface.co/front/assets/huggingface_logo-noborder.sv…"
      ]
     },
     "metadata": {},
     "output_type": "display_data"
    }
   ],
   "source": [
    "from huggingface_hub import notebook_login\n",
    "notebook_login()"
   ]
  },
  {
   "cell_type": "code",
   "execution_count": 53,
   "id": "1f736231-1f78-49ff-9e58-7164ba5743f7",
   "metadata": {},
   "outputs": [
    {
     "name": "stderr",
     "output_type": "stream",
     "text": [
      "'sudo' is not recognized as an internal or external command,\n",
      "operable program or batch file.\n"
     ]
    }
   ],
   "source": [
    "!sudo apt-get install git-lfs -qq"
   ]
  },
  {
   "cell_type": "code",
   "execution_count": 58,
   "id": "6ff513c7-a54f-4c57-8d44-859a58b980ea",
   "metadata": {},
   "outputs": [],
   "source": [
    "!git config --global user.email \"vipboy20031408@gmail.com\"\n",
    "!git config --global user.name \"creamyngreen\""
   ]
  },
  {
   "cell_type": "code",
   "execution_count": 59,
   "id": "2ed09933-4ada-4eed-a196-5a01fd9d7659",
   "metadata": {},
   "outputs": [],
   "source": [
    "from blurr.data.core import get_blurr_tfm\n",
    "blurr_tfm = get_blurr_tfm(learn.dls.before_batch)     "
   ]
  },
  {
   "cell_type": "code",
   "execution_count": 60,
   "id": "c7efdd2f-09eb-4d1f-a155-d49aed91a77f",
   "metadata": {},
   "outputs": [
    {
     "data": {
      "application/vnd.jupyter.widget-view+json": {
       "model_id": "2cd7b39d38ed48ac9cf975ecae188752",
       "version_major": 2,
       "version_minor": 0
      },
      "text/plain": [
       "model.safetensors:   0%|          | 0.00/1.68G [00:00<?, ?B/s]"
      ]
     },
     "metadata": {},
     "output_type": "display_data"
    },
    {
     "data": {
      "text/plain": [
       "CommitInfo(commit_url='https://huggingface.co/creamyngreen/vietnamese-summarization/commit/20a94a2911d334cf926a22a2b8adba704723854d', commit_message='Upload MBartForConditionalGeneration', commit_description='', oid='20a94a2911d334cf926a22a2b8adba704723854d', pr_url=None, repo_url=RepoUrl('https://huggingface.co/creamyngreen/vietnamese-summarization', endpoint='https://huggingface.co', repo_type='model', repo_id='creamyngreen/vietnamese-summarization'), pr_revision=None, pr_num=None)"
      ]
     },
     "execution_count": 60,
     "metadata": {},
     "output_type": "execute_result"
    }
   ],
   "source": [
    "blurr_tfm.hf_model.push_to_hub(\"vietnamese-summarization\",use_temp_dir=True)"
   ]
  },
  {
   "cell_type": "code",
   "execution_count": 67,
   "id": "733b0a74-4408-4faf-bce9-1a400495a059",
   "metadata": {},
   "outputs": [
    {
     "data": {
      "application/vnd.jupyter.widget-view+json": {
       "model_id": "eab43e445b5747f5aea073e94c7b9ea5",
       "version_major": 2,
       "version_minor": 0
      },
      "text/plain": [
       "README.md:   0%|          | 0.00/5.17k [00:00<?, ?B/s]"
      ]
     },
     "metadata": {},
     "output_type": "display_data"
    },
    {
     "data": {
      "text/plain": [
       "CommitInfo(commit_url='https://huggingface.co/creamyngreen/vietnamese-summarization/commit/4379416e0ad13295e7aed9db0a29b98e8f1fcb30', commit_message='Upload tokenizer', commit_description='', oid='4379416e0ad13295e7aed9db0a29b98e8f1fcb30', pr_url=None, repo_url=RepoUrl('https://huggingface.co/creamyngreen/vietnamese-summarization', endpoint='https://huggingface.co', repo_type='model', repo_id='creamyngreen/vietnamese-summarization'), pr_revision=None, pr_num=None)"
      ]
     },
     "execution_count": 67,
     "metadata": {},
     "output_type": "execute_result"
    }
   ],
   "source": [
    "blurr_tfm.hf_tokenizer.push_to_hub(\"vietnamese-summarization\",use_temp_dir=True)  "
   ]
  }
 ],
 "metadata": {
  "kernelspec": {
   "display_name": "Python 3 (ipykernel)",
   "language": "python",
   "name": "python3"
  },
  "language_info": {
   "codemirror_mode": {
    "name": "ipython",
    "version": 3
   },
   "file_extension": ".py",
   "mimetype": "text/x-python",
   "name": "python",
   "nbconvert_exporter": "python",
   "pygments_lexer": "ipython3",
   "version": "3.11.2"
  }
 },
 "nbformat": 4,
 "nbformat_minor": 5
}
